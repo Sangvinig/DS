{
 "cells": [
  {
   "cell_type": "code",
   "execution_count": 82,
   "metadata": {
    "collapsed": true
   },
   "outputs": [],
   "source": [
    "import random\n",
    "from numpy.random import normal\n",
    "import pandas as pd\n",
    "import matplotlib.pyplot as plt\n",
    "%matplotlib inline"
   ]
  },
  {
   "cell_type": "markdown",
   "metadata": {},
   "source": [
    "Блок для рассчета Монте-Карло с переменными распределенными равномерно"
   ]
  },
  {
   "cell_type": "code",
   "execution_count": 83,
   "metadata": {},
   "outputs": [
    {
     "data": {
      "text/plain": [
       "(array([ 19516.,  29001.,  20932.,  13523.,   8101.,   4718.,   2455.,\n",
       "          1204.,    461.,     89.]),\n",
       " array([   78578.99266281,   512540.92056126,   946502.84845972,\n",
       "         1380464.77635817,  1814426.70425662,  2248388.63215508,\n",
       "         2682350.56005353,  3116312.48795199,  3550274.41585044,\n",
       "         3984236.3437489 ,  4418198.27164735]),\n",
       " <a list of 10 Patch objects>)"
      ]
     },
     "execution_count": 83,
     "metadata": {},
     "output_type": "execute_result"
    },
    {
     "data": {
      "image/png": "[encoded data removed]",
      "text/plain": [
       "<matplotlib.figure.Figure at 0x1e4d8920940>"
      ]
     },
     "metadata": {},
     "output_type": "display_data"
    }
   ],
   "source": [
    "#Рамки конверсии\n",
    "c1,c2 = 0.3,0.8\n",
    "#Рамки интенсивности\n",
    "i1,i2 = 1,6\n",
    "#цена\n",
    "p1 = 790\n",
    "#Рамки LT\n",
    "l1,l2 = 30,50\n",
    "#Рамки количества новых заявок\n",
    "o1,o2 = 300,1200\n",
    "\n",
    "convertion = []\n",
    "intencity = []\n",
    "price = []\n",
    "lt = []\n",
    "orders = []\n",
    "for i in range(100000):\n",
    "    convertion.append(random.uniform(c1,c2))\n",
    "    intencity.append(random.uniform(i1,i2))\n",
    "    price.append(p1)\n",
    "    lt.append(int(random.uniform(l1,l2)))\n",
    "    orders.append(int(random.uniform(o1,o2)))\n",
    "itogi = []\n",
    "for i in range(100000):\n",
    "    j = int(random.uniform(0, 100000))\n",
    "    itog = orders[j]*convertion[j]*intencity[j]*price[j]\n",
    "    itogi.append(itog)  \n",
    "plt.hist(itogi)"
   ]
  },
  {
   "cell_type": "code",
   "execution_count": 84,
   "metadata": {},
   "outputs": [
    {
     "data": {
      "text/html": [
       "<div>\n",
       "<style>\n",
       "    .dataframe thead tr:only-child th {\n",
       "        text-align: right;\n",
       "    }\n",
       "\n",
       "    .dataframe thead th {\n",
       "        text-align: left;\n",
       "    }\n",
       "\n",
       "    .dataframe tbody tr th {\n",
       "        vertical-align: top;\n",
       "    }\n",
       "</style>\n",
       "<table border=\"1\" class=\"dataframe\">\n",
       "  <thead>\n",
       "    <tr style=\"text-align: right;\">\n",
       "      <th></th>\n",
       "      <th>0</th>\n",
       "    </tr>\n",
       "  </thead>\n",
       "  <tbody>\n",
       "    <tr>\n",
       "      <th>count</th>\n",
       "      <td>1.000000e+05</td>\n",
       "    </tr>\n",
       "    <tr>\n",
       "      <th>mean</th>\n",
       "      <td>1.143663e+06</td>\n",
       "    </tr>\n",
       "    <tr>\n",
       "      <th>std</th>\n",
       "      <td>7.221801e+05</td>\n",
       "    </tr>\n",
       "    <tr>\n",
       "      <th>min</th>\n",
       "      <td>7.857899e+04</td>\n",
       "    </tr>\n",
       "    <tr>\n",
       "      <th>25%</th>\n",
       "      <td>5.902971e+05</td>\n",
       "    </tr>\n",
       "    <tr>\n",
       "      <th>50%</th>\n",
       "      <td>9.730643e+05</td>\n",
       "    </tr>\n",
       "    <tr>\n",
       "      <th>75%</th>\n",
       "      <td>1.536755e+06</td>\n",
       "    </tr>\n",
       "    <tr>\n",
       "      <th>max</th>\n",
       "      <td>4.418198e+06</td>\n",
       "    </tr>\n",
       "  </tbody>\n",
       "</table>\n",
       "</div>"
      ],
      "text/plain": [
       "                  0\n",
       "count  1.000000e+05\n",
       "mean   1.143663e+06\n",
       "std    7.221801e+05\n",
       "min    7.857899e+04\n",
       "25%    5.902971e+05\n",
       "50%    9.730643e+05\n",
       "75%    1.536755e+06\n",
       "max    4.418198e+06"
      ]
     },
     "execution_count": 84,
     "metadata": {},
     "output_type": "execute_result"
    }
   ],
   "source": [
    "pd.DataFrame(itogi).describe()"
   ]
  },
  {
   "cell_type": "markdown",
   "metadata": {},
   "source": [
    "Блок для рассчета Монте-Карло с переменными распределенными нормально"
   ]
  },
  {
   "cell_type": "code",
   "execution_count": 85,
   "metadata": {},
   "outputs": [
    {
     "data": {
      "text/plain": [
       "(array([  4.10000000e+01,   1.04700000e+03,   1.04900000e+04,\n",
       "          2.96310000e+04,   3.43740000e+04,   1.81380000e+04,\n",
       "          5.17400000e+03,   9.90000000e+02,   1.02000000e+02,\n",
       "          1.30000000e+01]),\n",
       " array([  169182.17061978,   591715.29533922,  1014248.42005867,\n",
       "         1436781.54477811,  1859314.66949755,  2281847.79421699,\n",
       "         2704380.91893644,  3126914.04365588,  3549447.16837532,\n",
       "         3971980.29309476,  4394513.41781421]),\n",
       " <a list of 10 Patch objects>)"
      ]
     },
     "execution_count": 85,
     "metadata": {},
     "output_type": "execute_result"
    },
    {
     "data": {
      "image/png": "[encoded data removed]",
      "text/plain": [
       "<matplotlib.figure.Figure at 0x1e4d81605f8>"
      ]
     },
     "metadata": {},
     "output_type": "display_data"
    }
   ],
   "source": [
    "#Рамки конверсии\n",
    "c1 = 0.5 #среднее значение конверсии\n",
    "c2 = 0.1 #стандартное отклонение конверсии\n",
    "\n",
    "#Рамки интенсивности\n",
    "i1 = 5 #среднее значение интенсивности\n",
    "i2 = 0.3 #стандартное отклонение интенсивности\n",
    "\n",
    "#цена\n",
    "p1 = 790\n",
    "\n",
    "#Рамки LT\n",
    "l1 = 35 #среднее значение LT\n",
    "l2  = 7 #стандартное отклонение LT\n",
    "\n",
    "#Рамки количества новых заявок\n",
    "o1 = 1000 #среднее значение количества заявок\n",
    "o2 = 100 #стандартное отклонение количества заявок\n",
    "\n",
    "convertion = normal(c1,c2,100000)\n",
    "intencity = normal(i1,i2,100000)\n",
    "price = [p1]*100000\n",
    "lt = normal(l1,l2,100000)\n",
    "orders = normal(o1,o2,100000)\n",
    "\n",
    "itogi = []\n",
    "for i in range(100000):\n",
    "    j = int(random.uniform(0, 100000))\n",
    "    itog = orders[j]*convertion[j]*intencity[j]*price[j]\n",
    "    itogi.append(itog)  \n",
    "plt.hist(itogi)"
   ]
  },
  {
   "cell_type": "code",
   "execution_count": 86,
   "metadata": {},
   "outputs": [
    {
     "data": {
      "text/html": [
       "<div>\n",
       "<style>\n",
       "    .dataframe thead tr:only-child th {\n",
       "        text-align: right;\n",
       "    }\n",
       "\n",
       "    .dataframe thead th {\n",
       "        text-align: left;\n",
       "    }\n",
       "\n",
       "    .dataframe tbody tr th {\n",
       "        vertical-align: top;\n",
       "    }\n",
       "</style>\n",
       "<table border=\"1\" class=\"dataframe\">\n",
       "  <thead>\n",
       "    <tr style=\"text-align: right;\">\n",
       "      <th></th>\n",
       "      <th>0</th>\n",
       "    </tr>\n",
       "  </thead>\n",
       "  <tbody>\n",
       "    <tr>\n",
       "      <th>count</th>\n",
       "      <td>1.000000e+05</td>\n",
       "    </tr>\n",
       "    <tr>\n",
       "      <th>mean</th>\n",
       "      <td>1.977718e+06</td>\n",
       "    </tr>\n",
       "    <tr>\n",
       "      <th>std</th>\n",
       "      <td>4.595868e+05</td>\n",
       "    </tr>\n",
       "    <tr>\n",
       "      <th>min</th>\n",
       "      <td>1.691822e+05</td>\n",
       "    </tr>\n",
       "    <tr>\n",
       "      <th>25%</th>\n",
       "      <td>1.658038e+06</td>\n",
       "    </tr>\n",
       "    <tr>\n",
       "      <th>50%</th>\n",
       "      <td>1.958632e+06</td>\n",
       "    </tr>\n",
       "    <tr>\n",
       "      <th>75%</th>\n",
       "      <td>2.273923e+06</td>\n",
       "    </tr>\n",
       "    <tr>\n",
       "      <th>max</th>\n",
       "      <td>4.394513e+06</td>\n",
       "    </tr>\n",
       "  </tbody>\n",
       "</table>\n",
       "</div>"
      ],
      "text/plain": [
       "                  0\n",
       "count  1.000000e+05\n",
       "mean   1.977718e+06\n",
       "std    4.595868e+05\n",
       "min    1.691822e+05\n",
       "25%    1.658038e+06\n",
       "50%    1.958632e+06\n",
       "75%    2.273923e+06\n",
       "max    4.394513e+06"
      ]
     },
     "execution_count": 86,
     "metadata": {},
     "output_type": "execute_result"
    }
   ],
   "source": [
    "pd.DataFrame(itogi).describe()"
   ]
  },
  {
   "cell_type": "code",
   "execution_count": null,
   "metadata": {
    "collapsed": true
   },
   "outputs": [],
   "source": []
  }
 ],
 "metadata": {
  "kernelspec": {
   "display_name": "Python 3",
   "language": "python",
   "name": "python3"
  },
  "language_info": {
   "codemirror_mode": {
    "name": "ipython",
    "version": 3
   },
   "file_extension": ".py",
   "mimetype": "text/x-python",
   "name": "python",
   "nbconvert_exporter": "python",
   "pygments_lexer": "ipython3",
   "version": "3.6.1"
  }
 },
 "nbformat": 4,
 "nbformat_minor": 2
}
