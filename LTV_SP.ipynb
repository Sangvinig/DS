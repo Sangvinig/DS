{
 "cells": [
  {
   "cell_type": "code",
   "execution_count": 36,
   "metadata": {
    "collapsed": true
   },
   "outputs": [],
   "source": [
    "import os\n",
    "\n",
    "import numpy as np\n",
    "import pandas as pd\n",
    "import seaborn as sns\n",
    "import matplotlib.pyplot as plt\n",
    "\n",
    "%matplotlib inline"
   ]
  },
  {
   "cell_type": "code",
   "execution_count": 37,
   "metadata": {},
   "outputs": [
    {
     "data": {
      "text/html": [
       "<div>\n",
       "<style>\n",
       "    .dataframe thead tr:only-child th {\n",
       "        text-align: right;\n",
       "    }\n",
       "\n",
       "    .dataframe thead th {\n",
       "        text-align: left;\n",
       "    }\n",
       "\n",
       "    .dataframe tbody tr th {\n",
       "        vertical-align: top;\n",
       "    }\n",
       "</style>\n",
       "<table border=\"1\" class=\"dataframe\">\n",
       "  <thead>\n",
       "    <tr style=\"text-align: right;\">\n",
       "      <th></th>\n",
       "      <th>reg_week</th>\n",
       "      <th>diff</th>\n",
       "      <th>ltv</th>\n",
       "      <th>students</th>\n",
       "      <th>new_students</th>\n",
       "      <th>amount</th>\n",
       "      <th>cohort_size</th>\n",
       "      <th>paid_user</th>\n",
       "      <th>arpu</th>\n",
       "      <th>arppu</th>\n",
       "      <th>arppu_discounted</th>\n",
       "      <th>student_share</th>\n",
       "    </tr>\n",
       "  </thead>\n",
       "  <tbody>\n",
       "    <tr>\n",
       "      <th>507</th>\n",
       "      <td>2015-04-01</td>\n",
       "      <td>1131</td>\n",
       "      <td>242760</td>\n",
       "      <td>3</td>\n",
       "      <td>0</td>\n",
       "      <td>5520</td>\n",
       "      <td>5</td>\n",
       "      <td>3</td>\n",
       "      <td>48552.000000</td>\n",
       "      <td>80920.000000</td>\n",
       "      <td>58362.230066</td>\n",
       "      <td>0.600000</td>\n",
       "    </tr>\n",
       "    <tr>\n",
       "      <th>734</th>\n",
       "      <td>2015-03-01</td>\n",
       "      <td>1133</td>\n",
       "      <td>251480</td>\n",
       "      <td>5</td>\n",
       "      <td>0</td>\n",
       "      <td>2760</td>\n",
       "      <td>6</td>\n",
       "      <td>5</td>\n",
       "      <td>41913.333333</td>\n",
       "      <td>50296.000000</td>\n",
       "      <td>32423.450175</td>\n",
       "      <td>0.833333</td>\n",
       "    </tr>\n",
       "    <tr>\n",
       "      <th>248</th>\n",
       "      <td>2015-05-01</td>\n",
       "      <td>1138</td>\n",
       "      <td>802760</td>\n",
       "      <td>9</td>\n",
       "      <td>0</td>\n",
       "      <td>5520</td>\n",
       "      <td>13</td>\n",
       "      <td>9</td>\n",
       "      <td>61750.769231</td>\n",
       "      <td>89195.555556</td>\n",
       "      <td>56942.817044</td>\n",
       "      <td>0.692308</td>\n",
       "    </tr>\n",
       "    <tr>\n",
       "      <th>735</th>\n",
       "      <td>2015-03-01</td>\n",
       "      <td>1147</td>\n",
       "      <td>254240</td>\n",
       "      <td>5</td>\n",
       "      <td>0</td>\n",
       "      <td>2760</td>\n",
       "      <td>6</td>\n",
       "      <td>5</td>\n",
       "      <td>42373.333333</td>\n",
       "      <td>50848.000000</td>\n",
       "      <td>32603.346600</td>\n",
       "      <td>0.833333</td>\n",
       "    </tr>\n",
       "    <tr>\n",
       "      <th>920</th>\n",
       "      <td>2015-03-01</td>\n",
       "      <td>1168</td>\n",
       "      <td>259760</td>\n",
       "      <td>5</td>\n",
       "      <td>0</td>\n",
       "      <td>5520</td>\n",
       "      <td>6</td>\n",
       "      <td>5</td>\n",
       "      <td>43293.333333</td>\n",
       "      <td>51952.000000</td>\n",
       "      <td>32955.829256</td>\n",
       "      <td>0.833333</td>\n",
       "    </tr>\n",
       "  </tbody>\n",
       "</table>\n",
       "</div>"
      ],
      "text/plain": [
       "      reg_week  diff     ltv  students  new_students  amount  cohort_size  \\\n",
       "507 2015-04-01  1131  242760         3             0    5520            5   \n",
       "734 2015-03-01  1133  251480         5             0    2760            6   \n",
       "248 2015-05-01  1138  802760         9             0    5520           13   \n",
       "735 2015-03-01  1147  254240         5             0    2760            6   \n",
       "920 2015-03-01  1168  259760         5             0    5520            6   \n",
       "\n",
       "     paid_user          arpu         arppu  arppu_discounted  student_share  \n",
       "507          3  48552.000000  80920.000000      58362.230066       0.600000  \n",
       "734          5  41913.333333  50296.000000      32423.450175       0.833333  \n",
       "248          9  61750.769231  89195.555556      56942.817044       0.692308  \n",
       "735          5  42373.333333  50848.000000      32603.346600       0.833333  \n",
       "920          5  43293.333333  51952.000000      32955.829256       0.833333  "
      ]
     },
     "execution_count": 37,
     "metadata": {},
     "output_type": "execute_result"
    }
   ],
   "source": [
    "df = pd.read_csv('ltv_sp.csv')\n",
    "df=df.sort_values('diff')\n",
    "df['reg_week'] = pd.to_datetime(df['reg_week'])\n",
    "df['student_share']=df['students']/df['cohort_size']\n",
    "\n",
    "#df['pr_us']=df['amount'] / df['paid_user'] * \n",
    "#df=df.join(df.groupby('reg_week')['pr_us'].cumsum(), how='left', rsuffix='_cum')\n",
    "df.tail()"
   ]
  },
  {
   "cell_type": "code",
   "execution_count": 38,
   "metadata": {},
   "outputs": [
    {
     "data": {
      "text/html": [
       "<div>\n",
       "<style>\n",
       "    .dataframe thead tr:only-child th {\n",
       "        text-align: right;\n",
       "    }\n",
       "\n",
       "    .dataframe thead th {\n",
       "        text-align: left;\n",
       "    }\n",
       "\n",
       "    .dataframe tbody tr th {\n",
       "        vertical-align: top;\n",
       "    }\n",
       "</style>\n",
       "<table border=\"1\" class=\"dataframe\">\n",
       "  <thead>\n",
       "    <tr style=\"text-align: right;\">\n",
       "      <th></th>\n",
       "      <th>diff</th>\n",
       "      <th>ltv</th>\n",
       "      <th>students</th>\n",
       "      <th>new_students</th>\n",
       "      <th>amount</th>\n",
       "      <th>cohort_size</th>\n",
       "      <th>paid_user</th>\n",
       "      <th>arpu</th>\n",
       "      <th>arppu</th>\n",
       "      <th>arppu_discounted</th>\n",
       "      <th>student_share</th>\n",
       "      <th>arppu_disc</th>\n",
       "    </tr>\n",
       "  </thead>\n",
       "  <tbody>\n",
       "    <tr>\n",
       "      <th>0</th>\n",
       "      <td>0</td>\n",
       "      <td>24840</td>\n",
       "      <td>2</td>\n",
       "      <td>2</td>\n",
       "      <td>24840</td>\n",
       "      <td>324</td>\n",
       "      <td>135</td>\n",
       "      <td>76.666667</td>\n",
       "      <td>184.000000</td>\n",
       "      <td>184.000000</td>\n",
       "      <td>0.006173</td>\n",
       "      <td>184.000000</td>\n",
       "    </tr>\n",
       "    <tr>\n",
       "      <th>1</th>\n",
       "      <td>1</td>\n",
       "      <td>148000</td>\n",
       "      <td>16</td>\n",
       "      <td>14</td>\n",
       "      <td>123160</td>\n",
       "      <td>324</td>\n",
       "      <td>135</td>\n",
       "      <td>456.790123</td>\n",
       "      <td>1096.296296</td>\n",
       "      <td>1095.404983</td>\n",
       "      <td>0.049383</td>\n",
       "      <td>1095.404983</td>\n",
       "    </tr>\n",
       "    <tr>\n",
       "      <th>2</th>\n",
       "      <td>2</td>\n",
       "      <td>270520</td>\n",
       "      <td>29</td>\n",
       "      <td>13</td>\n",
       "      <td>122520</td>\n",
       "      <td>324</td>\n",
       "      <td>135</td>\n",
       "      <td>834.938272</td>\n",
       "      <td>2003.851852</td>\n",
       "      <td>2001.188041</td>\n",
       "      <td>0.089506</td>\n",
       "      <td>2001.188041</td>\n",
       "    </tr>\n",
       "    <tr>\n",
       "      <th>3</th>\n",
       "      <td>3</td>\n",
       "      <td>317240</td>\n",
       "      <td>36</td>\n",
       "      <td>7</td>\n",
       "      <td>46720</td>\n",
       "      <td>324</td>\n",
       "      <td>135</td>\n",
       "      <td>979.135802</td>\n",
       "      <td>2349.925926</td>\n",
       "      <td>2346.248763</td>\n",
       "      <td>0.111111</td>\n",
       "      <td>2346.248763</td>\n",
       "    </tr>\n",
       "    <tr>\n",
       "      <th>4</th>\n",
       "      <td>4</td>\n",
       "      <td>358200</td>\n",
       "      <td>40</td>\n",
       "      <td>4</td>\n",
       "      <td>40960</td>\n",
       "      <td>324</td>\n",
       "      <td>135</td>\n",
       "      <td>1105.555556</td>\n",
       "      <td>2653.333333</td>\n",
       "      <td>2648.472191</td>\n",
       "      <td>0.123457</td>\n",
       "      <td>2648.472191</td>\n",
       "    </tr>\n",
       "  </tbody>\n",
       "</table>\n",
       "</div>"
      ],
      "text/plain": [
       "   diff     ltv  students  new_students  amount  cohort_size  paid_user  \\\n",
       "0     0   24840         2             2   24840          324        135   \n",
       "1     1  148000        16            14  123160          324        135   \n",
       "2     2  270520        29            13  122520          324        135   \n",
       "3     3  317240        36             7   46720          324        135   \n",
       "4     4  358200        40             4   40960          324        135   \n",
       "\n",
       "          arpu        arppu  arppu_discounted  student_share   arppu_disc  \n",
       "0    76.666667   184.000000        184.000000       0.006173   184.000000  \n",
       "1   456.790123  1096.296296       1095.404983       0.049383  1095.404983  \n",
       "2   834.938272  2003.851852       2001.188041       0.089506  2001.188041  \n",
       "3   979.135802  2349.925926       2346.248763       0.111111  2346.248763  \n",
       "4  1105.555556  2653.333333       2648.472191       0.123457  2648.472191  "
      ]
     },
     "execution_count": 38,
     "metadata": {},
     "output_type": "execute_result"
    }
   ],
   "source": [
    "# для штучных картинок (по одной когорте)\n",
    "\n",
    "df2 = df[df['reg_week']=='2017-05-01'].groupby('diff').mean().reset_index()\n",
    "df2['arppu_disc']=( ( df2['amount'] / df2['paid_user'] ) * (0.999023**df2['diff']) ).cumsum()\n",
    "\n",
    "#dff2=dff[dff['month_reg']==201606]\n",
    "df2.head()"
   ]
  },
  {
   "cell_type": "code",
   "execution_count": 39,
   "metadata": {},
   "outputs": [
    {
     "data": {
      "text/plain": [
       "[<matplotlib.lines.Line2D at 0x1f49cd60278>]"
      ]
     },
     "execution_count": 39,
     "metadata": {},
     "output_type": "execute_result"
    },
    {
     "data": {
      "image/png": "[encoded data removed]",
      "text/plain": [
       "<matplotlib.figure.Figure at 0x1f49cd0cc88>"
      ]
     },
     "metadata": {},
     "output_type": "display_data"
    }
   ],
   "source": [
    "plt.plot(df.groupby('reg_week')['cohort_size'].max())\n",
    "\n",
    "#df.groupby('reg_week')['cohort_size'].max()"
   ]
  },
  {
   "cell_type": "code",
   "execution_count": 40,
   "metadata": {},
   "outputs": [
    {
     "data": {
      "text/plain": [
       "array([ 510.5300577 ,    0.67877674])"
      ]
     },
     "execution_count": 40,
     "metadata": {},
     "output_type": "execute_result"
    }
   ],
   "source": [
    "from scipy.optimize import curve_fit\n",
    "from scipy.optimize import minimize\n",
    "\n",
    "def expon(x, l1, l2 ):\n",
    "    return l1 * np.exp(l2 * x)\n",
    "\n",
    "def rational(x, p, q):\n",
    "    \"\"\"\n",
    "    The general rational function description.\n",
    "    p is a list with the polynomial coefficients in the numerator\n",
    "    q is a list with the polynomial coefficients (except the first one)\n",
    "    in the denominator\n",
    "    The first coefficient of the denominator polynomial is fixed at 1.\n",
    "    \"\"\"\n",
    "    return np.polyval(p, x) / np.polyval([1] + q, x)\n",
    "\n",
    "def powe(x, l1, l2):\n",
    "    return l1*(x*1.0)**l2\n",
    "\n",
    "min_diff=60  # с каго дня фитим\n",
    "max_diff=200 # по какой день\n",
    "\n",
    "to_fit = df2\n",
    "\n",
    "best_vals, covar = curve_fit(powe, to_fit[(to_fit['diff']<=max_diff) & (to_fit['diff']>=min_diff)]['diff'].values, \n",
    "                             to_fit[(to_fit['diff']<=max_diff) & (to_fit['diff']>=min_diff)]['arppu'].values)\n",
    "                           # , p0=init_vals2)\n",
    "#best_vals\n",
    "\n",
    "#best_vals, covar = curve_fit(powe, df3[(df3['diff2']<=max_diff) & (df3['diff2']>=min_diff)]['diff2'].values, \n",
    "#                             df3[(df3['diff2']<=max_diff) & (df3['diff2']>=min_diff)]['arpu'].values)\n",
    "#                           # , p0=init_vals2)\n",
    "best_vals\n"
   ]
  },
  {
   "cell_type": "code",
   "execution_count": 43,
   "metadata": {},
   "outputs": [
    {
     "data": {
      "text/plain": [
       "<matplotlib.legend.Legend at 0x1f49ceb3a58>"
      ]
     },
     "execution_count": 43,
     "metadata": {},
     "output_type": "execute_result"
    },
    {
     "data": {
      "image/png": "[encoded data removed]",
      "text/plain": [
       "<matplotlib.figure.Figure at 0x1f49ceb3b38>"
      ]
     },
     "metadata": {},
     "output_type": "display_data"
    }
   ],
   "source": [
    "sns.regplot(x='diff', y='arppu', data=df2, fit_reg=False, label='cash-in')\n",
    "\n",
    "#sns.regplot(df2['diff'], powe(df2['diff'], 1.94082176e+07, 3.69767431e-01), fit_reg=False)\n",
    "sns.regplot(df2['diff'], powe(df2['diff'], *best_vals), fit_reg=False, label='fit')\n",
    "\n",
    "#sns.regplot(x='diff2', y='pr_us_cum', data=dff2, fit_reg=False, label='GMV')\n",
    "#sns.regplot(dff2['diff2'], powe(dff2['diff2'], *best_vals), fit_reg=False)\n",
    "plt.legend()"
   ]
  },
  {
   "cell_type": "code",
   "execution_count": 50,
   "metadata": {},
   "outputs": [
    {
     "data": {
      "text/plain": [
       "44663.55055246376"
      ]
     },
     "execution_count": 50,
     "metadata": {},
     "output_type": "execute_result"
    }
   ],
   "source": [
    "#LTV и дисконтированием 30% в год = 9,77e-4 в день:\n",
    "#best_vals[0]*best_vals[1]*(x**(best_vals[1]-1)) - это производная от best_vals[0] * x**best_vals[1]\n",
    "\n",
    "import scipy.integrate as integrate\n",
    "a, _ = integrate.quad(lambda x: best_vals[0]*best_vals[1]*(x**(best_vals[1]-1))*(0.999023**x), 0, np.inf)\n",
    "a"
   ]
  },
  {
   "cell_type": "code",
   "execution_count": 45,
   "metadata": {},
   "outputs": [
    {
     "name": "stderr",
     "output_type": "stream",
     "text": [
      "C:\\ProgramData\\Anaconda3\\lib\\site-packages\\ipykernel_launcher.py:18: RuntimeWarning: divide by zero encountered in power\n"
     ]
    },
    {
     "data": {
      "text/html": [
       "<div>\n",
       "<style>\n",
       "    .dataframe thead tr:only-child th {\n",
       "        text-align: right;\n",
       "    }\n",
       "\n",
       "    .dataframe thead th {\n",
       "        text-align: left;\n",
       "    }\n",
       "\n",
       "    .dataframe tbody tr th {\n",
       "        vertical-align: top;\n",
       "    }\n",
       "</style>\n",
       "<table border=\"1\" class=\"dataframe\">\n",
       "  <thead>\n",
       "    <tr style=\"text-align: right;\">\n",
       "      <th></th>\n",
       "      <th>1100day_fit</th>\n",
       "      <th>cohort</th>\n",
       "      <th>error</th>\n",
       "      <th>inf</th>\n",
       "      <th>l1</th>\n",
       "      <th>l2</th>\n",
       "      <th>p1</th>\n",
       "      <th>p2</th>\n",
       "    </tr>\n",
       "  </thead>\n",
       "  <tbody>\n",
       "    <tr>\n",
       "      <th>259</th>\n",
       "      <td>52611.757642</td>\n",
       "      <td>2017-04-01</td>\n",
       "      <td>0.033875</td>\n",
       "      <td>45042.764731</td>\n",
       "      <td>1516.035551</td>\n",
       "      <td>0.449327</td>\n",
       "      <td>717.828015</td>\n",
       "      <td>0.613226</td>\n",
       "    </tr>\n",
       "    <tr>\n",
       "      <th>322</th>\n",
       "      <td>44549.471859</td>\n",
       "      <td>2017-05-01</td>\n",
       "      <td>0.162927</td>\n",
       "      <td>38057.658523</td>\n",
       "      <td>1591.289107</td>\n",
       "      <td>0.416864</td>\n",
       "      <td>864.485600</td>\n",
       "      <td>0.562928</td>\n",
       "    </tr>\n",
       "    <tr>\n",
       "      <th>328</th>\n",
       "      <td>50902.170877</td>\n",
       "      <td>2017-06-01</td>\n",
       "      <td>0.096855</td>\n",
       "      <td>43522.005052</td>\n",
       "      <td>1965.412130</td>\n",
       "      <td>0.372828</td>\n",
       "      <td>821.922573</td>\n",
       "      <td>0.589173</td>\n",
       "    </tr>\n",
       "    <tr>\n",
       "      <th>292</th>\n",
       "      <td>60077.162874</td>\n",
       "      <td>2017-07-01</td>\n",
       "      <td>-0.074509</td>\n",
       "      <td>51554.324457</td>\n",
       "      <td>2021.376362</td>\n",
       "      <td>0.369444</td>\n",
       "      <td>663.836668</td>\n",
       "      <td>0.643340</td>\n",
       "    </tr>\n",
       "    <tr>\n",
       "      <th>246</th>\n",
       "      <td>48743.546709</td>\n",
       "      <td>2017-08-01</td>\n",
       "      <td>0.065672</td>\n",
       "      <td>41638.018830</td>\n",
       "      <td>3175.502447</td>\n",
       "      <td>0.296996</td>\n",
       "      <td>1289.094017</td>\n",
       "      <td>0.518720</td>\n",
       "    </tr>\n",
       "    <tr>\n",
       "      <th>245</th>\n",
       "      <td>56766.120699</td>\n",
       "      <td>2017-09-01</td>\n",
       "      <td>0.004684</td>\n",
       "      <td>48600.920231</td>\n",
       "      <td>2244.226543</td>\n",
       "      <td>0.346403</td>\n",
       "      <td>772.006995</td>\n",
       "      <td>0.613689</td>\n",
       "    </tr>\n",
       "    <tr>\n",
       "      <th>239</th>\n",
       "      <td>51465.384519</td>\n",
       "      <td>2017-10-01</td>\n",
       "      <td>-0.034742</td>\n",
       "      <td>44036.065152</td>\n",
       "      <td>2237.273301</td>\n",
       "      <td>0.336673</td>\n",
       "      <td>750.116152</td>\n",
       "      <td>0.603798</td>\n",
       "    </tr>\n",
       "    <tr>\n",
       "      <th>215</th>\n",
       "      <td>60851.767016</td>\n",
       "      <td>2017-11-01</td>\n",
       "      <td>0.003848</td>\n",
       "      <td>52217.457853</td>\n",
       "      <td>2374.838726</td>\n",
       "      <td>0.337140</td>\n",
       "      <td>673.983573</td>\n",
       "      <td>0.643003</td>\n",
       "    </tr>\n",
       "    <tr>\n",
       "      <th>185</th>\n",
       "      <td>52249.882623</td>\n",
       "      <td>2017-12-01</td>\n",
       "      <td>0.053054</td>\n",
       "      <td>44663.550552</td>\n",
       "      <td>1942.429375</td>\n",
       "      <td>0.379948</td>\n",
       "      <td>878.554672</td>\n",
       "      <td>0.583389</td>\n",
       "    </tr>\n",
       "  </tbody>\n",
       "</table>\n",
       "</div>"
      ],
      "text/plain": [
       "      1100day_fit     cohort     error           inf           l1        l2  \\\n",
       "259  52611.757642 2017-04-01  0.033875  45042.764731  1516.035551  0.449327   \n",
       "322  44549.471859 2017-05-01  0.162927  38057.658523  1591.289107  0.416864   \n",
       "328  50902.170877 2017-06-01  0.096855  43522.005052  1965.412130  0.372828   \n",
       "292  60077.162874 2017-07-01 -0.074509  51554.324457  2021.376362  0.369444   \n",
       "246  48743.546709 2017-08-01  0.065672  41638.018830  3175.502447  0.296996   \n",
       "245  56766.120699 2017-09-01  0.004684  48600.920231  2244.226543  0.346403   \n",
       "239  51465.384519 2017-10-01 -0.034742  44036.065152  2237.273301  0.336673   \n",
       "215  60851.767016 2017-11-01  0.003848  52217.457853  2374.838726  0.337140   \n",
       "185  52249.882623 2017-12-01  0.053054  44663.550552  1942.429375  0.379948   \n",
       "\n",
       "              p1        p2  \n",
       "259   717.828015  0.613226  \n",
       "322   864.485600  0.562928  \n",
       "328   821.922573  0.589173  \n",
       "292   663.836668  0.643340  \n",
       "246  1289.094017  0.518720  \n",
       "245   772.006995  0.613689  \n",
       "239   750.116152  0.603798  \n",
       "215   673.983573  0.643003  \n",
       "185   878.554672  0.583389  "
      ]
     },
     "execution_count": 45,
     "metadata": {},
     "output_type": "execute_result"
    }
   ],
   "source": [
    "min_diff=60\n",
    "max_diff=120\n",
    "\n",
    "#задаём когорты, на которые будем смотреть\n",
    "df_t = df[(pd.to_datetime(df['reg_week'])>='2017-04-01') & (pd.to_datetime(df['reg_week'])<'2018-01-01')].sort_values('reg_week')\n",
    "\n",
    "#l1 и l2 - фит первой части (линейной, первые покупки), p1 p2 - фит второй части\n",
    "#l1 l2 я притащил, чтобы глянуть, как оно коррелирует с финальным ltv (плохо)\n",
    "res=pd.DataFrame({'cohort': [pd.to_datetime('2020-01-01')], \n",
    "                  '1100day_fit': [0], \n",
    "                  'inf': 0,\n",
    "                  'p1': 0, \n",
    "                  'p2': 0,\n",
    "                  'l1': 0,\n",
    "                  'l2': 0\n",
    " #                 ,'p11': 0,\n",
    " #                 'p21': 0\n",
    "                 })\n",
    "\n",
    "for month in df_t['reg_week'].unique():\n",
    "    df2 = df_t[df_t['reg_week']==month].groupby('diff').mean().reset_index()\n",
    "  #  df2['arpu_disc']=(df2['amount'] / df2['cohort_size'] * (0.999555**df2['diff']) ).cumsum()\n",
    "    best_vals, covar = curve_fit(powe, df2[(df2['diff']<=max_diff) & (df2['diff']>=min_diff)]['diff'].values, \n",
    "                             df2[(df2['diff']<=max_diff) & (df2['diff']>=min_diff)]['arppu'].values)\n",
    " #                               p0 = init_vals)\n",
    " #   print(month, best_vals)\n",
    "    a, _ = integrate.quad(lambda x: best_vals[0]*best_vals[1]*(x**(best_vals[1]-1))*(0.999023**x), 0, np.inf)\n",
    "    \n",
    "    best_vals_l, covar = curve_fit(powe, df2[(df2['diff']<min_diff)]['diff'].values, \n",
    "                             df2[(df2['diff']<min_diff)]['arppu'].values)\n",
    "    res= res.append(pd.DataFrame({ 'cohort': [month],\n",
    "                                   '1100day_fit': [powe(1100, *best_vals)],\n",
    "                                  'inf': a,\n",
    "                                  'error': ( df2['arppu'][-1:] - powe(df2['diff'], *best_vals)[-1:] ) / df2['arppu'][-1:],\n",
    "                                  'p1':best_vals[0],\n",
    "                                  'p2':best_vals[1],\n",
    "                                  'l1': best_vals_l[0],\n",
    "                                  'l2': best_vals_l[1]\n",
    "        #                          ,'p11':best_vals[2],\n",
    "        #                          'p21':best_vals[3]\n",
    "                                 }))\n",
    "    \n",
    "res[1:].sort_values('cohort')\n",
    "#res.sort_values('cohort').to_csv('forecast.csv')"
   ]
  },
  {
   "cell_type": "code",
   "execution_count": 66,
   "metadata": {},
   "outputs": [],
   "source": [
    "to_draw =  res[1:].sort_values('cohort')[['1100day_fit', 'cohort']]\n",
    "to_draw.index = to_draw.cohort\n",
    "to_draw.drop('cohort', inplace=True, axis=1)"
   ]
  },
  {
   "cell_type": "code",
   "execution_count": 70,
   "metadata": {},
   "outputs": [
    {
     "data": {
      "text/plain": [
       "<matplotlib.axes._subplots.AxesSubplot at 0x1f49d75ea58>"
      ]
     },
     "execution_count": 70,
     "metadata": {},
     "output_type": "execute_result"
    },
    {
     "data": {
      "image/png": "[encoded data removed]",
      "text/plain": [
       "<matplotlib.figure.Figure at 0x1f49d2f2668>"
      ]
     },
     "metadata": {},
     "output_type": "display_data"
    }
   ],
   "source": [
    "to_draw.plot(kind='bar')"
   ]
  },
  {
   "cell_type": "code",
   "execution_count": 64,
   "metadata": {},
   "outputs": [
    {
     "data": {
      "text/html": [
       "<div>\n",
       "<style>\n",
       "    .dataframe thead tr:only-child th {\n",
       "        text-align: right;\n",
       "    }\n",
       "\n",
       "    .dataframe thead th {\n",
       "        text-align: left;\n",
       "    }\n",
       "\n",
       "    .dataframe tbody tr th {\n",
       "        vertical-align: top;\n",
       "    }\n",
       "</style>\n",
       "<table border=\"1\" class=\"dataframe\">\n",
       "  <thead>\n",
       "    <tr style=\"text-align: right;\">\n",
       "      <th></th>\n",
       "      <th>1100day_fit</th>\n",
       "      <th>cohort</th>\n",
       "    </tr>\n",
       "    <tr>\n",
       "      <th>cohort</th>\n",
       "      <th></th>\n",
       "      <th></th>\n",
       "    </tr>\n",
       "  </thead>\n",
       "  <tbody>\n",
       "    <tr>\n",
       "      <th>2017-04-01</th>\n",
       "      <td>52611.757642</td>\n",
       "      <td>2017-04-01</td>\n",
       "    </tr>\n",
       "    <tr>\n",
       "      <th>2017-05-01</th>\n",
       "      <td>44549.471859</td>\n",
       "      <td>2017-05-01</td>\n",
       "    </tr>\n",
       "    <tr>\n",
       "      <th>2017-06-01</th>\n",
       "      <td>50902.170877</td>\n",
       "      <td>2017-06-01</td>\n",
       "    </tr>\n",
       "    <tr>\n",
       "      <th>2017-07-01</th>\n",
       "      <td>60077.162874</td>\n",
       "      <td>2017-07-01</td>\n",
       "    </tr>\n",
       "    <tr>\n",
       "      <th>2017-08-01</th>\n",
       "      <td>48743.546709</td>\n",
       "      <td>2017-08-01</td>\n",
       "    </tr>\n",
       "    <tr>\n",
       "      <th>2017-09-01</th>\n",
       "      <td>56766.120699</td>\n",
       "      <td>2017-09-01</td>\n",
       "    </tr>\n",
       "    <tr>\n",
       "      <th>2017-10-01</th>\n",
       "      <td>51465.384519</td>\n",
       "      <td>2017-10-01</td>\n",
       "    </tr>\n",
       "    <tr>\n",
       "      <th>2017-11-01</th>\n",
       "      <td>60851.767016</td>\n",
       "      <td>2017-11-01</td>\n",
       "    </tr>\n",
       "    <tr>\n",
       "      <th>2017-12-01</th>\n",
       "      <td>52249.882623</td>\n",
       "      <td>2017-12-01</td>\n",
       "    </tr>\n",
       "  </tbody>\n",
       "</table>\n",
       "</div>"
      ],
      "text/plain": [
       "             1100day_fit     cohort\n",
       "cohort                             \n",
       "2017-04-01  52611.757642 2017-04-01\n",
       "2017-05-01  44549.471859 2017-05-01\n",
       "2017-06-01  50902.170877 2017-06-01\n",
       "2017-07-01  60077.162874 2017-07-01\n",
       "2017-08-01  48743.546709 2017-08-01\n",
       "2017-09-01  56766.120699 2017-09-01\n",
       "2017-10-01  51465.384519 2017-10-01\n",
       "2017-11-01  60851.767016 2017-11-01\n",
       "2017-12-01  52249.882623 2017-12-01"
      ]
     },
     "execution_count": 64,
     "metadata": {},
     "output_type": "execute_result"
    }
   ],
   "source": []
  },
  {
   "cell_type": "code",
   "execution_count": null,
   "metadata": {
    "collapsed": true
   },
   "outputs": [],
   "source": []
  },
  {
   "cell_type": "code",
   "execution_count": 46,
   "metadata": {},
   "outputs": [
    {
     "data": {
      "text/html": [
       "<div>\n",
       "<style>\n",
       "    .dataframe thead tr:only-child th {\n",
       "        text-align: right;\n",
       "    }\n",
       "\n",
       "    .dataframe thead th {\n",
       "        text-align: left;\n",
       "    }\n",
       "\n",
       "    .dataframe tbody tr th {\n",
       "        vertical-align: top;\n",
       "    }\n",
       "</style>\n",
       "<table border=\"1\" class=\"dataframe\">\n",
       "  <thead>\n",
       "    <tr style=\"text-align: right;\">\n",
       "      <th></th>\n",
       "      <th>1100day_fit</th>\n",
       "      <th>error</th>\n",
       "      <th>inf</th>\n",
       "      <th>l1</th>\n",
       "      <th>l2</th>\n",
       "      <th>p1</th>\n",
       "      <th>p2</th>\n",
       "    </tr>\n",
       "  </thead>\n",
       "  <tbody>\n",
       "    <tr>\n",
       "      <th>1100day_fit</th>\n",
       "      <td>1.000000</td>\n",
       "      <td>-0.783333</td>\n",
       "      <td>1.000000</td>\n",
       "      <td>0.216667</td>\n",
       "      <td>-0.083333</td>\n",
       "      <td>-0.783333</td>\n",
       "      <td>0.916667</td>\n",
       "    </tr>\n",
       "    <tr>\n",
       "      <th>error</th>\n",
       "      <td>-0.783333</td>\n",
       "      <td>1.000000</td>\n",
       "      <td>-0.783333</td>\n",
       "      <td>-0.333333</td>\n",
       "      <td>0.383333</td>\n",
       "      <td>0.783333</td>\n",
       "      <td>-0.816667</td>\n",
       "    </tr>\n",
       "    <tr>\n",
       "      <th>inf</th>\n",
       "      <td>1.000000</td>\n",
       "      <td>-0.783333</td>\n",
       "      <td>1.000000</td>\n",
       "      <td>0.216667</td>\n",
       "      <td>-0.083333</td>\n",
       "      <td>-0.783333</td>\n",
       "      <td>0.916667</td>\n",
       "    </tr>\n",
       "    <tr>\n",
       "      <th>l1</th>\n",
       "      <td>0.216667</td>\n",
       "      <td>-0.333333</td>\n",
       "      <td>0.216667</td>\n",
       "      <td>1.000000</td>\n",
       "      <td>-0.950000</td>\n",
       "      <td>0.016667</td>\n",
       "      <td>0.116667</td>\n",
       "    </tr>\n",
       "    <tr>\n",
       "      <th>l2</th>\n",
       "      <td>-0.083333</td>\n",
       "      <td>0.383333</td>\n",
       "      <td>-0.083333</td>\n",
       "      <td>-0.950000</td>\n",
       "      <td>1.000000</td>\n",
       "      <td>-0.033333</td>\n",
       "      <td>-0.033333</td>\n",
       "    </tr>\n",
       "    <tr>\n",
       "      <th>p1</th>\n",
       "      <td>-0.783333</td>\n",
       "      <td>0.783333</td>\n",
       "      <td>-0.783333</td>\n",
       "      <td>0.016667</td>\n",
       "      <td>-0.033333</td>\n",
       "      <td>1.000000</td>\n",
       "      <td>-0.933333</td>\n",
       "    </tr>\n",
       "    <tr>\n",
       "      <th>p2</th>\n",
       "      <td>0.916667</td>\n",
       "      <td>-0.816667</td>\n",
       "      <td>0.916667</td>\n",
       "      <td>0.116667</td>\n",
       "      <td>-0.033333</td>\n",
       "      <td>-0.933333</td>\n",
       "      <td>1.000000</td>\n",
       "    </tr>\n",
       "  </tbody>\n",
       "</table>\n",
       "</div>"
      ],
      "text/plain": [
       "             1100day_fit     error       inf        l1        l2        p1  \\\n",
       "1100day_fit     1.000000 -0.783333  1.000000  0.216667 -0.083333 -0.783333   \n",
       "error          -0.783333  1.000000 -0.783333 -0.333333  0.383333  0.783333   \n",
       "inf             1.000000 -0.783333  1.000000  0.216667 -0.083333 -0.783333   \n",
       "l1              0.216667 -0.333333  0.216667  1.000000 -0.950000  0.016667   \n",
       "l2             -0.083333  0.383333 -0.083333 -0.950000  1.000000 -0.033333   \n",
       "p1             -0.783333  0.783333 -0.783333  0.016667 -0.033333  1.000000   \n",
       "p2              0.916667 -0.816667  0.916667  0.116667 -0.033333 -0.933333   \n",
       "\n",
       "                   p2  \n",
       "1100day_fit  0.916667  \n",
       "error       -0.816667  \n",
       "inf          0.916667  \n",
       "l1           0.116667  \n",
       "l2          -0.033333  \n",
       "p1          -0.933333  \n",
       "p2           1.000000  "
      ]
     },
     "execution_count": 46,
     "metadata": {},
     "output_type": "execute_result"
    }
   ],
   "source": [
    "res[1:].corr(method='spearman')\n"
   ]
  },
  {
   "cell_type": "code",
   "execution_count": 47,
   "metadata": {},
   "outputs": [
    {
     "data": {
      "text/plain": [
       "<matplotlib.axes._subplots.AxesSubplot at 0x1f49d0c0c50>"
      ]
     },
     "execution_count": 47,
     "metadata": {},
     "output_type": "execute_result"
    },
    {
     "data": {
      "image/png": "[encoded data removed]",
      "text/plain": [
       "<matplotlib.figure.Figure at 0x1f49cf7b2e8>"
      ]
     },
     "metadata": {},
     "output_type": "display_data"
    }
   ],
   "source": [
    "sns.distplot(res[1:]['error'])"
   ]
  },
  {
   "cell_type": "code",
   "execution_count": 48,
   "metadata": {},
   "outputs": [
    {
     "data": {
      "text/html": [
       "<div>\n",
       "<style>\n",
       "    .dataframe thead tr:only-child th {\n",
       "        text-align: right;\n",
       "    }\n",
       "\n",
       "    .dataframe thead th {\n",
       "        text-align: left;\n",
       "    }\n",
       "\n",
       "    .dataframe tbody tr th {\n",
       "        vertical-align: top;\n",
       "    }\n",
       "</style>\n",
       "<table border=\"1\" class=\"dataframe\">\n",
       "  <thead>\n",
       "    <tr style=\"text-align: right;\">\n",
       "      <th></th>\n",
       "      <th>(0, 30]</th>\n",
       "      <th>(30, 40]</th>\n",
       "      <th>(40, 50]</th>\n",
       "      <th>(50, 60]</th>\n",
       "      <th>(60, 100]</th>\n",
       "      <th>(100, 150]</th>\n",
       "      <th>(150, 200]</th>\n",
       "      <th>(200, 500]</th>\n",
       "    </tr>\n",
       "  </thead>\n",
       "  <tbody>\n",
       "    <tr>\n",
       "      <th>(0, 30]</th>\n",
       "      <td>1.000000</td>\n",
       "      <td>0.948832</td>\n",
       "      <td>0.958065</td>\n",
       "      <td>0.939145</td>\n",
       "      <td>0.722969</td>\n",
       "      <td>0.673950</td>\n",
       "      <td>0.619557</td>\n",
       "      <td>0.519608</td>\n",
       "    </tr>\n",
       "    <tr>\n",
       "      <th>(30, 40]</th>\n",
       "      <td>0.948832</td>\n",
       "      <td>1.000000</td>\n",
       "      <td>0.901538</td>\n",
       "      <td>0.883682</td>\n",
       "      <td>0.685428</td>\n",
       "      <td>0.646305</td>\n",
       "      <td>0.568144</td>\n",
       "      <td>0.390148</td>\n",
       "    </tr>\n",
       "    <tr>\n",
       "      <th>(40, 50]</th>\n",
       "      <td>0.958065</td>\n",
       "      <td>0.901538</td>\n",
       "      <td>1.000000</td>\n",
       "      <td>0.965415</td>\n",
       "      <td>0.792214</td>\n",
       "      <td>0.812903</td>\n",
       "      <td>0.744758</td>\n",
       "      <td>0.629811</td>\n",
       "    </tr>\n",
       "    <tr>\n",
       "      <th>(50, 60]</th>\n",
       "      <td>0.939145</td>\n",
       "      <td>0.883682</td>\n",
       "      <td>0.965415</td>\n",
       "      <td>1.000000</td>\n",
       "      <td>0.924615</td>\n",
       "      <td>0.896923</td>\n",
       "      <td>0.849231</td>\n",
       "      <td>0.727692</td>\n",
       "    </tr>\n",
       "    <tr>\n",
       "      <th>(60, 100]</th>\n",
       "      <td>0.722969</td>\n",
       "      <td>0.685428</td>\n",
       "      <td>0.792214</td>\n",
       "      <td>0.924615</td>\n",
       "      <td>1.000000</td>\n",
       "      <td>0.914744</td>\n",
       "      <td>0.877340</td>\n",
       "      <td>0.709396</td>\n",
       "    </tr>\n",
       "    <tr>\n",
       "      <th>(100, 150]</th>\n",
       "      <td>0.673950</td>\n",
       "      <td>0.646305</td>\n",
       "      <td>0.812903</td>\n",
       "      <td>0.896923</td>\n",
       "      <td>0.914744</td>\n",
       "      <td>1.000000</td>\n",
       "      <td>0.961497</td>\n",
       "      <td>0.860046</td>\n",
       "    </tr>\n",
       "    <tr>\n",
       "      <th>(150, 200]</th>\n",
       "      <td>0.619557</td>\n",
       "      <td>0.568144</td>\n",
       "      <td>0.744758</td>\n",
       "      <td>0.849231</td>\n",
       "      <td>0.877340</td>\n",
       "      <td>0.961497</td>\n",
       "      <td>1.000000</td>\n",
       "      <td>0.841578</td>\n",
       "    </tr>\n",
       "    <tr>\n",
       "      <th>(200, 500]</th>\n",
       "      <td>0.519608</td>\n",
       "      <td>0.390148</td>\n",
       "      <td>0.629811</td>\n",
       "      <td>0.727692</td>\n",
       "      <td>0.709396</td>\n",
       "      <td>0.860046</td>\n",
       "      <td>0.841578</td>\n",
       "      <td>1.000000</td>\n",
       "    </tr>\n",
       "  </tbody>\n",
       "</table>\n",
       "</div>"
      ],
      "text/plain": [
       "             (0, 30]  (30, 40]  (40, 50]  (50, 60]  (60, 100]  (100, 150]  \\\n",
       "(0, 30]     1.000000  0.948832  0.958065  0.939145   0.722969    0.673950   \n",
       "(30, 40]    0.948832  1.000000  0.901538  0.883682   0.685428    0.646305   \n",
       "(40, 50]    0.958065  0.901538  1.000000  0.965415   0.792214    0.812903   \n",
       "(50, 60]    0.939145  0.883682  0.965415  1.000000   0.924615    0.896923   \n",
       "(60, 100]   0.722969  0.685428  0.792214  0.924615   1.000000    0.914744   \n",
       "(100, 150]  0.673950  0.646305  0.812903  0.896923   0.914744    1.000000   \n",
       "(150, 200]  0.619557  0.568144  0.744758  0.849231   0.877340    0.961497   \n",
       "(200, 500]  0.519608  0.390148  0.629811  0.727692   0.709396    0.860046   \n",
       "\n",
       "            (150, 200]  (200, 500]  \n",
       "(0, 30]       0.619557    0.519608  \n",
       "(30, 40]      0.568144    0.390148  \n",
       "(40, 50]      0.744758    0.629811  \n",
       "(50, 60]      0.849231    0.727692  \n",
       "(60, 100]     0.877340    0.709396  \n",
       "(100, 150]    0.961497    0.860046  \n",
       "(150, 200]    1.000000    0.841578  \n",
       "(200, 500]    0.841578    1.000000  "
      ]
     },
     "execution_count": 48,
     "metadata": {},
     "output_type": "execute_result"
    }
   ],
   "source": [
    "# как коррелируют результаты за Х дней с более поздним LTV: через сколько дней можно говорить, куда двигается LTV\n",
    "\n",
    "df_t = df[pd.to_datetime(df['reg_week'])<'2018-01-01']\n",
    "bins = [0, 30, 40, 50, 60, 100, 150, 200, 500]\n",
    "#bins= np.linspace(-1, 1800, 59)\n",
    "df_corr=df_t.groupby([pd.cut(df_t['diff'], bins), 'reg_week'])['arppu'].max().reset_index().pivot(index='reg_week', columns='diff', values='arppu')\n",
    "df_corr.columns = ['(0, 30]', '(30, 40]', '(40, 50]', '(50, 60]', '(60, 100]', '(100, 150]', '(150, 200]', '(200, 500]']\n",
    "#df_corr.columns = np.linspace(0, 7, 8)\n",
    "\n",
    "df_corr.corr(method='spearman')"
   ]
  },
  {
   "cell_type": "code",
   "execution_count": 49,
   "metadata": {},
   "outputs": [
    {
     "data": {
      "text/plain": [
       "[<matplotlib.lines.Line2D at 0x1f49d1722b0>]"
      ]
     },
     "execution_count": 49,
     "metadata": {},
     "output_type": "execute_result"
    },
    {
     "data": {
      "image/png": "[encoded data removed]",
      "text/plain": [
       "<matplotlib.figure.Figure at 0x1f49cd9f9e8>"
      ]
     },
     "metadata": {},
     "output_type": "display_data"
    }
   ],
   "source": [
    "plt.plot(df_corr['(200, 500]'])"
   ]
  },
  {
   "cell_type": "code",
   "execution_count": null,
   "metadata": {
    "collapsed": true
   },
   "outputs": [],
   "source": []
  },
  {
   "cell_type": "code",
   "execution_count": null,
   "metadata": {
    "collapsed": true
   },
   "outputs": [],
   "source": []
  },
  {
   "cell_type": "code",
   "execution_count": null,
   "metadata": {
    "collapsed": true
   },
   "outputs": [],
   "source": []
  },
  {
   "cell_type": "code",
   "execution_count": null,
   "metadata": {
    "collapsed": true
   },
   "outputs": [],
   "source": []
  },
  {
   "cell_type": "code",
   "execution_count": null,
   "metadata": {
    "collapsed": true
   },
   "outputs": [],
   "source": []
  },
  {
   "cell_type": "code",
   "execution_count": null,
   "metadata": {
    "collapsed": true
   },
   "outputs": [],
   "source": []
  },
  {
   "cell_type": "code",
   "execution_count": null,
   "metadata": {
    "collapsed": true
   },
   "outputs": [],
   "source": []
  },
  {
   "cell_type": "code",
   "execution_count": null,
   "metadata": {
    "collapsed": true
   },
   "outputs": [],
   "source": []
  },
  {
   "cell_type": "code",
   "execution_count": null,
   "metadata": {
    "collapsed": true
   },
   "outputs": [],
   "source": []
  },
  {
   "cell_type": "code",
   "execution_count": null,
   "metadata": {
    "collapsed": true
   },
   "outputs": [],
   "source": []
  },
  {
   "cell_type": "code",
   "execution_count": null,
   "metadata": {
    "collapsed": true
   },
   "outputs": [],
   "source": []
  },
  {
   "cell_type": "code",
   "execution_count": null,
   "metadata": {
    "collapsed": true
   },
   "outputs": [],
   "source": []
  },
  {
   "cell_type": "code",
   "execution_count": null,
   "metadata": {
    "collapsed": true
   },
   "outputs": [],
   "source": []
  },
  {
   "cell_type": "code",
   "execution_count": null,
   "metadata": {
    "collapsed": true
   },
   "outputs": [],
   "source": []
  },
  {
   "cell_type": "code",
   "execution_count": null,
   "metadata": {
    "collapsed": true
   },
   "outputs": [],
   "source": []
  },
  {
   "cell_type": "code",
   "execution_count": null,
   "metadata": {
    "collapsed": true
   },
   "outputs": [],
   "source": []
  },
  {
   "cell_type": "code",
   "execution_count": null,
   "metadata": {
    "collapsed": true
   },
   "outputs": [],
   "source": []
  },
  {
   "cell_type": "code",
   "execution_count": null,
   "metadata": {
    "collapsed": true
   },
   "outputs": [],
   "source": []
  },
  {
   "cell_type": "code",
   "execution_count": null,
   "metadata": {
    "collapsed": true
   },
   "outputs": [],
   "source": []
  },
  {
   "cell_type": "code",
   "execution_count": null,
   "metadata": {
    "collapsed": true
   },
   "outputs": [],
   "source": []
  },
  {
   "cell_type": "code",
   "execution_count": null,
   "metadata": {
    "collapsed": true
   },
   "outputs": [],
   "source": []
  },
  {
   "cell_type": "code",
   "execution_count": null,
   "metadata": {
    "collapsed": true
   },
   "outputs": [],
   "source": []
  },
  {
   "cell_type": "code",
   "execution_count": null,
   "metadata": {
    "collapsed": true
   },
   "outputs": [],
   "source": []
  }
 ],
 "metadata": {
  "kernelspec": {
   "display_name": "Python 3",
   "language": "python",
   "name": "python3"
  },
  "language_info": {
   "codemirror_mode": {
    "name": "ipython",
    "version": 3
   },
   "file_extension": ".py",
   "mimetype": "text/x-python",
   "name": "python",
   "nbconvert_exporter": "python",
   "pygments_lexer": "ipython3",
   "version": "3.6.1"
  }
 },
 "nbformat": 4,
 "nbformat_minor": 2
}
